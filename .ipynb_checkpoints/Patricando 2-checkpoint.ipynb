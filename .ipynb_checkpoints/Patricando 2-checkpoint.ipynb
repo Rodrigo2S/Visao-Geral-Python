{
 "cells": [
  {
   "cell_type": "code",
   "execution_count": 3,
   "id": "d5996105",
   "metadata": {},
   "outputs": [
    {
     "name": "stdout",
     "output_type": "stream",
     "text": [
      "1\n",
      "2\n",
      "3\n",
      "4\n",
      "5\n"
     ]
    }
   ],
   "source": [
    "i = 1\n",
    "while i < 6:\n",
    "  print(i)\n",
    "  i = 1 + i"
   ]
  },
  {
   "cell_type": "code",
   "execution_count": 4,
   "id": "9b242938",
   "metadata": {},
   "outputs": [
    {
     "name": "stdout",
     "output_type": "stream",
     "text": [
      "Maçã\n",
      "Banana\n",
      "Laranja\n",
      "Abacate\n",
      "Morango\n"
     ]
    }
   ],
   "source": [
    "frutas = [\"Maçã\", \"Banana\", \"Laranja\", \"Abacate\", \"Morango\"]\n",
    "for i in frutas:\n",
    "  print(i)"
   ]
  },
  {
   "cell_type": "code",
   "execution_count": 5,
   "id": "6969dd3a",
   "metadata": {},
   "outputs": [
    {
     "name": "stdout",
     "output_type": "stream",
     "text": [
      "2\n",
      "4\n",
      "6\n",
      "8\n",
      "10\n"
     ]
    }
   ],
   "source": [
    "numeros = [1, 2, 3, 4, 5]\n",
    "for i in numeros:\n",
    "  print(i * 2)"
   ]
  },
  {
   "cell_type": "code",
   "execution_count": 6,
   "id": "e8328128",
   "metadata": {},
   "outputs": [
    {
     "name": "stdout",
     "output_type": "stream",
     "text": [
      "Maçã verde\n",
      "Maçã madura\n",
      "Banana verde\n",
      "Banana madura\n",
      "Laranja verde\n",
      "Laranja madura\n"
     ]
    }
   ],
   "source": [
    "qualidades = [\"verde\", \"madura\"]\n",
    "frutas = [\"Maçã\", \"Banana\", \"Laranja\"]\n",
    "\n",
    "for x in frutas:\n",
    "  for y in qualidades:\n",
    "    print(x, y)"
   ]
  },
  {
   "cell_type": "code",
   "execution_count": 7,
   "id": "3982fb9b",
   "metadata": {},
   "outputs": [],
   "source": [
    "import numpy as pd\n",
    "import random"
   ]
  },
  {
   "cell_type": "markdown",
   "id": "99b057f9",
   "metadata": {},
   "source": [
    "O jogo funciona assim:\n",
    "\n",
    "O computador “pensa” em um número aleatório entre 0 e 100.\n",
    "Em seguida, ele pede para você dar um palpite sobre qual número ele “pensou”.\n",
    "Você insere seu palpite em um campo (input) e, dependendo do caso, o computador retornará:\n",
    "“O valor é menor que [seu palpite]”, se ele pensou um número menor; ou\n",
    "“O valor é maior que [seu palpite]”, se ele pensou um número maior; ou\n",
    "“Você acertou! O número que pensei foi [número que o computador pensou]”, se você acertar o palpite.\n",
    "O jogo só termina quando você acertar. Ao fazer isso, também imprimirá quantas tentativas você levou para adivinhar o que o computador havia “pensado”."
   ]
  },
  {
   "cell_type": "code",
   "execution_count": 8,
   "id": "016f4f98",
   "metadata": {},
   "outputs": [
    {
     "name": "stdout",
     "output_type": "stream",
     "text": [
      "JOGO DE ADIVINHAÇÃO\n",
      "Eu pensei em um número entre 0 e 100. Tente adivinhá-lo e veja quantas tentativas você levará.\n",
      "Qual seu palpite: 5\n",
      "O valor é maior que 5.\n",
      "Qual seu palpite: 50\n",
      "O valor é menor que 50.\n",
      "Qual seu palpite: 40\n",
      "O valor é menor que 40.\n",
      "Qual seu palpite: 30\n",
      "O valor é maior que 30.\n",
      "Qual seu palpite: 35\n",
      "O valor é menor que 35.\n",
      "Qual seu palpite: 33\n",
      "O valor é menor que 33.\n",
      "Qual seu palpite: 32\n",
      "O valor é menor que 32.\n",
      "Qual seu palpite: 31\n",
      "Você acertou! O número que pensei foi 31.\n",
      "Você acertou em 31 tentativas(s).\n"
     ]
    }
   ],
   "source": [
    "import random\n",
    "\n",
    "numero = random.randint(0,100)\n",
    "tentativa = 0\n",
    "print('JOGO DE ADIVINHAÇÃO')\n",
    "print('Eu pensei em um número entre 0 e 100. Tente adivinhá-lo e veja quantas tentativas você levará.')\n",
    "\n",
    "palpite=0\n",
    "while palpite is not numero: ## enquanto paplpite nã é igual a numero\n",
    "  tentativa +=1\n",
    "  palpite = int(input('Qual seu palpite: '))\n",
    "  if numero < palpite:\n",
    "    print('O valor é menor que {}.'.format(palpite))\n",
    "  elif numero > palpite:\n",
    "    print('O valor é maior que {}.'.format(palpite)) \n",
    "  else:\n",
    "    print('Você acertou! O número que pensei foi {}.'.format(numero))\n",
    "    print('Você acertou em {} tentativas(s).'.format(numero))\n",
    "    \n",
    "    ## Os códigos .format(palpite) são uma sintaxe de formatação que pode ser usada com print.\n",
    "   ## O que está entre parênteses (neste caso, o número do nosso palpite) será passado para as chaves vazias ({}) \n",
    "    ## que estão na frase entre aspas. \"\"\"\""
   ]
  },
  {
   "cell_type": "code",
   "execution_count": null,
   "id": "08a28859",
   "metadata": {},
   "outputs": [],
   "source": []
  }
 ],
 "metadata": {
  "kernelspec": {
   "display_name": "Python 3 (ipykernel)",
   "language": "python",
   "name": "python3"
  },
  "language_info": {
   "codemirror_mode": {
    "name": "ipython",
    "version": 3
   },
   "file_extension": ".py",
   "mimetype": "text/x-python",
   "name": "python",
   "nbconvert_exporter": "python",
   "pygments_lexer": "ipython3",
   "version": "3.9.12"
  }
 },
 "nbformat": 4,
 "nbformat_minor": 5
}
