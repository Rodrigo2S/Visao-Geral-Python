{
 "cells": [
  {
   "cell_type": "code",
   "execution_count": 1,
   "id": "469dd802",
   "metadata": {},
   "outputs": [],
   "source": [
    "##Criando uma função\n",
    "def funcao_de_exemplo():\n",
    "  print(\"Imprimindo este texto a partir de uma função em Python\")"
   ]
  },
  {
   "cell_type": "code",
   "execution_count": 2,
   "id": "a63919d9",
   "metadata": {},
   "outputs": [
    {
     "name": "stdout",
     "output_type": "stream",
     "text": [
      "Imprimindo este texto a partir de uma função em Python\n"
     ]
    }
   ],
   "source": [
    "funcao_de_exemplo()"
   ]
  },
  {
   "cell_type": "code",
   "execution_count": 3,
   "id": "49bfad6e",
   "metadata": {},
   "outputs": [],
   "source": [
    "def imprime_nome(nome):\n",
    "  print(\"Bem-vindo, \" + nome + \"!\")"
   ]
  },
  {
   "cell_type": "code",
   "execution_count": 4,
   "id": "89156490",
   "metadata": {},
   "outputs": [
    {
     "name": "stdout",
     "output_type": "stream",
     "text": [
      "Bem-vindo, Fulano!\n"
     ]
    }
   ],
   "source": [
    "imprime_nome(\"Fulano\") "
   ]
  },
  {
   "cell_type": "code",
   "execution_count": 8,
   "id": "040145c9",
   "metadata": {},
   "outputs": [],
   "source": [
    "def soma_tres_numeros(x, y, z):\n",
    "  print(x + y + z)\n"
   ]
  },
  {
   "cell_type": "code",
   "execution_count": 10,
   "id": "398b6349",
   "metadata": {},
   "outputs": [
    {
     "name": "stdout",
     "output_type": "stream",
     "text": [
      "6\n"
     ]
    }
   ],
   "source": [
    "soma_tres_numeros(1, 2, 3)"
   ]
  },
  {
   "cell_type": "code",
   "execution_count": 11,
   "id": "0e5a791a",
   "metadata": {},
   "outputs": [],
   "source": [
    "def soma_dois_numeros(x, y):\n",
    "  return(x + y)"
   ]
  },
  {
   "cell_type": "code",
   "execution_count": 12,
   "id": "f1d78f8a",
   "metadata": {},
   "outputs": [
    {
     "name": "stdout",
     "output_type": "stream",
     "text": [
      "3\n"
     ]
    }
   ],
   "source": [
    "print(soma_dois_numeros(1,2))"
   ]
  },
  {
   "cell_type": "code",
   "execution_count": 15,
   "id": "f2d3f80a",
   "metadata": {},
   "outputs": [],
   "source": [
    "area_circunferencia1 = 3.14 * (2*2)\n"
   ]
  },
  {
   "cell_type": "code",
   "execution_count": 17,
   "id": "c7149985",
   "metadata": {},
   "outputs": [
    {
     "name": "stdout",
     "output_type": "stream",
     "text": [
      "12.56\n"
     ]
    }
   ],
   "source": [
    "\n",
    "print(area_circunferencia1)"
   ]
  },
  {
   "cell_type": "code",
   "execution_count": 18,
   "id": "7e7ce549",
   "metadata": {},
   "outputs": [],
   "source": [
    "def area_circunferencia(raio):\n",
    "  pi = 3.14\n",
    "  area = pi * (raio * raio)\n",
    "  print(area)"
   ]
  },
  {
   "cell_type": "code",
   "execution_count": 19,
   "id": "35f9f6e4",
   "metadata": {},
   "outputs": [
    {
     "name": "stdout",
     "output_type": "stream",
     "text": [
      "28.26\n",
      "86.54625\n",
      "176.625\n"
     ]
    }
   ],
   "source": [
    "area_circunferencia(3)\n",
    "area_circunferencia(5.25)\n",
    "area_circunferencia(7.5)"
   ]
  },
  {
   "cell_type": "markdown",
   "id": "aecc5286",
   "metadata": {},
   "source": [
    "## Biblioteca Math   Matemática"
   ]
  },
  {
   "cell_type": "code",
   "execution_count": 20,
   "id": "3217a0ba",
   "metadata": {},
   "outputs": [],
   "source": [
    "import math\n",
    "\n",
    "def area_circunferencia_melhorada(raio):\n",
    "  pi = math.pi\n",
    "  area = pi * (raio * raio)\n",
    "  print(area)"
   ]
  },
  {
   "cell_type": "code",
   "execution_count": 21,
   "id": "16ea1cae",
   "metadata": {},
   "outputs": [
    {
     "name": "stdout",
     "output_type": "stream",
     "text": [
      "12.566370614359172\n"
     ]
    }
   ],
   "source": [
    "area_circunferencia_melhorada(2)"
   ]
  },
  {
   "cell_type": "markdown",
   "id": "dd9b2f03",
   "metadata": {},
   "source": [
    "# CLASSES"
   ]
  },
  {
   "cell_type": "code",
   "execution_count": 22,
   "id": "e914f68e",
   "metadata": {},
   "outputs": [],
   "source": [
    "class NomeDaClasse:\n",
    "  ola = \"Olá, mundo!\""
   ]
  },
  {
   "cell_type": "code",
   "execution_count": 23,
   "id": "ed6d67dc",
   "metadata": {},
   "outputs": [],
   "source": [
    "saudacao = NomeDaClasse()"
   ]
  },
  {
   "cell_type": "code",
   "execution_count": 24,
   "id": "d9d3a3ca",
   "metadata": {},
   "outputs": [
    {
     "name": "stdout",
     "output_type": "stream",
     "text": [
      "Olá, mundo!\n"
     ]
    }
   ],
   "source": [
    "print(saudacao.ola)"
   ]
  },
  {
   "cell_type": "code",
   "execution_count": 34,
   "id": "ff4180fe",
   "metadata": {},
   "outputs": [],
   "source": [
    "class Cachorro:\n",
    "  def __init__(self, nome, raca, idade, peso):\n",
    "    self.nome = nome\n",
    "    self.raca = raca\n",
    "    self.idade = idade\n",
    "    self.peso = peso\n",
    "    self.habilidade = habilidade"
   ]
  },
  {
   "cell_type": "code",
   "execution_count": 35,
   "id": "689cfe98",
   "metadata": {
    "scrolled": true
   },
   "outputs": [
    {
     "ename": "TypeError",
     "evalue": "__init__() takes 5 positional arguments but 6 were given",
     "output_type": "error",
     "traceback": [
      "\u001b[1;31m---------------------------------------------------------------------------\u001b[0m",
      "\u001b[1;31mTypeError\u001b[0m                                 Traceback (most recent call last)",
      "Input \u001b[1;32mIn [35]\u001b[0m, in \u001b[0;36m<cell line: 1>\u001b[1;34m()\u001b[0m\n\u001b[1;32m----> 1\u001b[0m cachorro1 \u001b[38;5;241m=\u001b[39m \u001b[43mCachorro\u001b[49m\u001b[43m(\u001b[49m\u001b[38;5;124;43m\"\u001b[39;49m\u001b[38;5;124;43mNancy\u001b[39;49m\u001b[38;5;124;43m\"\u001b[39;49m\u001b[43m,\u001b[49m\u001b[43m \u001b[49m\u001b[38;5;124;43m\"\u001b[39;49m\u001b[38;5;124;43mBuldog Francês\u001b[39;49m\u001b[38;5;124;43m\"\u001b[39;49m\u001b[43m,\u001b[49m\u001b[43m \u001b[49m\u001b[38;5;241;43m3\u001b[39;49m\u001b[43m,\u001b[49m\u001b[43m \u001b[49m\u001b[38;5;241;43m9.5\u001b[39;49m\u001b[43m,\u001b[49m\u001b[43m \u001b[49m\u001b[38;5;124;43m\"\u001b[39;49m\u001b[38;5;124;43mfazer companhia\u001b[39;49m\u001b[38;5;124;43m\"\u001b[39;49m\u001b[43m)\u001b[49m\n",
      "\u001b[1;31mTypeError\u001b[0m: __init__() takes 5 positional arguments but 6 were given"
     ]
    }
   ],
   "source": [
    "cachorro1 = Cachorro(\"Nancy\", \"Buldog Francês\", 3, 9.5, \"fazer companhia\")"
   ]
  },
  {
   "cell_type": "code",
   "execution_count": 36,
   "id": "ca1eca75",
   "metadata": {},
   "outputs": [],
   "source": [
    "class Cachorro:\n",
    "  def __init__(self, nome, raca, idade, peso, habilidade):\n",
    "    self.nome = nome\n",
    "    self.raca = raca\n",
    "    self.idade = idade\n",
    "    self.peso = peso\n",
    "    self.habilidade = habilidade\n",
    "\n",
    "  def mostra_habilidade(self):\n",
    "    print(\"A habilidade de {} é {}!\".format(self.nome, self.habilidade))"
   ]
  },
  {
   "cell_type": "code",
   "execution_count": 37,
   "id": "7ddf64d6",
   "metadata": {},
   "outputs": [
    {
     "ename": "NameError",
     "evalue": "name 'cachorro1' is not defined",
     "output_type": "error",
     "traceback": [
      "\u001b[1;31m---------------------------------------------------------------------------\u001b[0m",
      "\u001b[1;31mNameError\u001b[0m                                 Traceback (most recent call last)",
      "Input \u001b[1;32mIn [37]\u001b[0m, in \u001b[0;36m<cell line: 1>\u001b[1;34m()\u001b[0m\n\u001b[1;32m----> 1\u001b[0m \u001b[43mcachorro1\u001b[49m\u001b[38;5;241m.\u001b[39mmostra_habilidade()\n",
      "\u001b[1;31mNameError\u001b[0m: name 'cachorro1' is not defined"
     ]
    }
   ],
   "source": [
    "cachorro1.mostra_habilidade()"
   ]
  },
  {
   "cell_type": "code",
   "execution_count": 38,
   "id": "d861bb18",
   "metadata": {},
   "outputs": [
    {
     "name": "stdout",
     "output_type": "stream",
     "text": [
      "Estamos no escopo global\n"
     ]
    }
   ],
   "source": [
    "x = \"escopo global\"\n",
    "print(\"Estamos no \" + x)"
   ]
  },
  {
   "cell_type": "code",
   "execution_count": 39,
   "id": "15ab482d",
   "metadata": {},
   "outputs": [
    {
     "name": "stdout",
     "output_type": "stream",
     "text": [
      "Estamos no escopo local\n",
      "Estamos no escopo global\n"
     ]
    }
   ],
   "source": [
    "x = \"escopo global\"\n",
    "\n",
    "def escopo():\n",
    "  x = \"escopo local\"\n",
    "  print(\"Estamos no \" + x)  \n",
    "\n",
    "escopo()\n",
    "print(\"Estamos no \" + x)"
   ]
  },
  {
   "cell_type": "code",
   "execution_count": 40,
   "id": "87a4908a",
   "metadata": {},
   "outputs": [
    {
     "ename": "IndentationError",
     "evalue": "expected an indented block (4058204688.py, line 4)",
     "output_type": "error",
     "traceback": [
      "\u001b[1;36m  Input \u001b[1;32mIn [40]\u001b[1;36m\u001b[0m\n\u001b[1;33m    x = \"escopo local\"\u001b[0m\n\u001b[1;37m    ^\u001b[0m\n\u001b[1;31mIndentationError\u001b[0m\u001b[1;31m:\u001b[0m expected an indented block\n"
     ]
    }
   ],
   "source": [
    "x = \"escopo global\"\n",
    "\n",
    "def escopo():\n",
    "x = \"escopo local\"\n",
    "print(\"Estamos no \" + x)  \n",
    "\n",
    "escopo()\n",
    "print(\"Estamos no \" + x)"
   ]
  },
  {
   "cell_type": "code",
   "execution_count": 43,
   "id": "01edaf33",
   "metadata": {},
   "outputs": [],
   "source": [
    "def novo_escopo():\n",
    "  global y \n",
    "  y = \"Variável local tornada global\"\n",
    "  print(y)"
   ]
  },
  {
   "cell_type": "code",
   "execution_count": 44,
   "id": "afc7fe48",
   "metadata": {},
   "outputs": [
    {
     "name": "stdout",
     "output_type": "stream",
     "text": [
      "Olá, mundo!\n"
     ]
    }
   ],
   "source": [
    "def funcao_mae():\n",
    "  x = \"Olá, mundo!\"\n",
    "  def funcao_filha():\n",
    "     print(x)\n",
    "  funcao_filha()\n",
    "\n",
    "funcao_mae()"
   ]
  },
  {
   "cell_type": "code",
   "execution_count": null,
   "id": "071d6573",
   "metadata": {},
   "outputs": [],
   "source": []
  }
 ],
 "metadata": {
  "kernelspec": {
   "display_name": "Python 3 (ipykernel)",
   "language": "python",
   "name": "python3"
  },
  "language_info": {
   "codemirror_mode": {
    "name": "ipython",
    "version": 3
   },
   "file_extension": ".py",
   "mimetype": "text/x-python",
   "name": "python",
   "nbconvert_exporter": "python",
   "pygments_lexer": "ipython3",
   "version": "3.9.12"
  }
 },
 "nbformat": 4,
 "nbformat_minor": 5
}
