{
 "cells": [
  {
   "cell_type": "code",
   "execution_count": 1,
   "id": "db3dde83",
   "metadata": {},
   "outputs": [],
   "source": [
    "frutas = [\"banana\", \"maçã\", \"laranja\", \"abacate\", \"morango\"]"
   ]
  },
  {
   "cell_type": "code",
   "execution_count": 2,
   "id": "5b381217",
   "metadata": {},
   "outputs": [
    {
     "data": {
      "text/plain": [
       "'banana'"
      ]
     },
     "execution_count": 2,
     "metadata": {},
     "output_type": "execute_result"
    }
   ],
   "source": [
    "frutas[0]"
   ]
  },
  {
   "cell_type": "code",
   "execution_count": 5,
   "id": "1dd20d00",
   "metadata": {},
   "outputs": [
    {
     "data": {
      "text/plain": [
       "['laranja', 'abacate']"
      ]
     },
     "execution_count": 5,
     "metadata": {},
     "output_type": "execute_result"
    }
   ],
   "source": [
    "frutas[2:4]"
   ]
  },
  {
   "cell_type": "code",
   "execution_count": 6,
   "id": "646ba99e",
   "metadata": {},
   "outputs": [
    {
     "data": {
      "text/plain": [
       "'laranja'"
      ]
     },
     "execution_count": 6,
     "metadata": {},
     "output_type": "execute_result"
    }
   ],
   "source": [
    "frutas[2]"
   ]
  },
  {
   "cell_type": "code",
   "execution_count": 10,
   "id": "9c965df6",
   "metadata": {},
   "outputs": [
    {
     "data": {
      "text/plain": [
       "['morango']"
      ]
     },
     "execution_count": 10,
     "metadata": {},
     "output_type": "execute_result"
    }
   ],
   "source": [
    "frutas[4:]"
   ]
  },
  {
   "cell_type": "code",
   "execution_count": 11,
   "id": "75b9489e",
   "metadata": {},
   "outputs": [
    {
     "data": {
      "text/plain": [
       "'morango'"
      ]
     },
     "execution_count": 11,
     "metadata": {},
     "output_type": "execute_result"
    }
   ],
   "source": [
    "frutas[-1]"
   ]
  },
  {
   "cell_type": "code",
   "execution_count": 12,
   "id": "ccbde34e",
   "metadata": {},
   "outputs": [
    {
     "data": {
      "text/plain": [
       "'abacate'"
      ]
     },
     "execution_count": 12,
     "metadata": {},
     "output_type": "execute_result"
    }
   ],
   "source": [
    "frutas[-2]"
   ]
  },
  {
   "cell_type": "code",
   "execution_count": 13,
   "id": "b39fa41c",
   "metadata": {},
   "outputs": [
    {
     "data": {
      "text/plain": [
       "5"
      ]
     },
     "execution_count": 13,
     "metadata": {},
     "output_type": "execute_result"
    }
   ],
   "source": [
    "len(frutas)"
   ]
  },
  {
   "cell_type": "code",
   "execution_count": 14,
   "id": "5a28a135",
   "metadata": {},
   "outputs": [],
   "source": [
    "frutas.append(\"melancia\")"
   ]
  },
  {
   "cell_type": "code",
   "execution_count": 15,
   "id": "eb90f43e",
   "metadata": {},
   "outputs": [
    {
     "data": {
      "text/plain": [
       "6"
      ]
     },
     "execution_count": 15,
     "metadata": {},
     "output_type": "execute_result"
    }
   ],
   "source": [
    "len(frutas)"
   ]
  },
  {
   "cell_type": "code",
   "execution_count": 16,
   "id": "899c5dab",
   "metadata": {},
   "outputs": [],
   "source": [
    "frutas.insert(4, \"uva\")"
   ]
  },
  {
   "cell_type": "code",
   "execution_count": 17,
   "id": "2c55f366",
   "metadata": {},
   "outputs": [
    {
     "data": {
      "text/plain": [
       "7"
      ]
     },
     "execution_count": 17,
     "metadata": {},
     "output_type": "execute_result"
    }
   ],
   "source": [
    "len(frutas)"
   ]
  },
  {
   "cell_type": "markdown",
   "id": "bdb27a33",
   "metadata": {},
   "source": [
    "Para removermos um ou mais itens da lista, podemos usar remove ou pop. Com remove, temos de declarar o valor do item. Com pop, excluímos pelo index do item (o que permite exclusão de fatias de itens)."
   ]
  },
  {
   "cell_type": "code",
   "execution_count": 18,
   "id": "1fd2d8b6",
   "metadata": {},
   "outputs": [],
   "source": [
    "frutas.remove(\"melancia\")"
   ]
  },
  {
   "cell_type": "code",
   "execution_count": 19,
   "id": "639d184d",
   "metadata": {},
   "outputs": [
    {
     "data": {
      "text/plain": [
       "'uva'"
      ]
     },
     "execution_count": 19,
     "metadata": {},
     "output_type": "execute_result"
    }
   ],
   "source": [
    "frutas.pop(4)"
   ]
  },
  {
   "cell_type": "markdown",
   "id": "6126546a",
   "metadata": {},
   "source": [
    "Para ordenar uma lista de A-Z (no caso de strings) ou do menor para o maior (no caso de números), podemos usar:"
   ]
  },
  {
   "cell_type": "code",
   "execution_count": 25,
   "id": "99f11b8a",
   "metadata": {},
   "outputs": [],
   "source": [
    "frutas.sort()"
   ]
  },
  {
   "cell_type": "code",
   "execution_count": 26,
   "id": "72b8abf3",
   "metadata": {},
   "outputs": [
    {
     "data": {
      "text/plain": [
       "['abacate', 'banana', 'laranja', 'maçã', 'morango']"
      ]
     },
     "execution_count": 26,
     "metadata": {},
     "output_type": "execute_result"
    }
   ],
   "source": [
    "frutas"
   ]
  },
  {
   "cell_type": "markdown",
   "id": "272befd6",
   "metadata": {},
   "source": [
    "Note que a ordenação modifica a lista. Se quisermos preservar a ordem original e ordenar um cópia da lista, podemos usar o copy:\n",
    "\n",
    "frutas_copia = frutas.copy()\n",
    "Aí podemos executar frutas_ordenadas.sort() e obteremos a nova lista ordenada de A-Z, preservando a lista antiga (frutas)."
   ]
  },
  {
   "cell_type": "code",
   "execution_count": 21,
   "id": "438cab16",
   "metadata": {},
   "outputs": [],
   "source": [
    "frutas_copia = frutas.copy()"
   ]
  },
  {
   "cell_type": "markdown",
   "id": "97ec6f36",
   "metadata": {},
   "source": [
    "Se quisermos reverter a lista (Z-A ou maior para o menor), fazemos:"
   ]
  },
  {
   "cell_type": "code",
   "execution_count": 23,
   "id": "3a8fd369",
   "metadata": {},
   "outputs": [],
   "source": [
    "frutas.reverse()"
   ]
  },
  {
   "cell_type": "code",
   "execution_count": 24,
   "id": "23b09aca",
   "metadata": {},
   "outputs": [
    {
     "data": {
      "text/plain": [
       "['morango', 'maçã', 'laranja', 'banana', 'abacate']"
      ]
     },
     "execution_count": 24,
     "metadata": {},
     "output_type": "execute_result"
    }
   ],
   "source": [
    "frutas"
   ]
  },
  {
   "cell_type": "markdown",
   "id": "f90d3524",
   "metadata": {},
   "source": [
    "## Métodos de strings"
   ]
  },
  {
   "cell_type": "code",
   "execution_count": 27,
   "id": "9f9aff70",
   "metadata": {},
   "outputs": [
    {
     "data": {
      "text/plain": [
       "['b', 'a', 'n', 'a', 'n', 'a']"
      ]
     },
     "execution_count": 27,
     "metadata": {},
     "output_type": "execute_result"
    }
   ],
   "source": [
    "banana = \"banana\"\n",
    "list(banana)"
   ]
  },
  {
   "cell_type": "code",
   "execution_count": 28,
   "id": "419b0cc2",
   "metadata": {},
   "outputs": [
    {
     "data": {
      "text/plain": [
       "'b'"
      ]
     },
     "execution_count": 28,
     "metadata": {},
     "output_type": "execute_result"
    }
   ],
   "source": [
    "banana[0]\n",
    "# Resultado: 'b'"
   ]
  },
  {
   "cell_type": "code",
   "execution_count": 29,
   "id": "1b081752",
   "metadata": {},
   "outputs": [
    {
     "data": {
      "text/plain": [
       "6"
      ]
     },
     "execution_count": 29,
     "metadata": {},
     "output_type": "execute_result"
    }
   ],
   "source": [
    "banana[2:]\n",
    "# Resultado: 'nana'\n",
    "len(banana)\n",
    "# Resultado: 6"
   ]
  },
  {
   "cell_type": "code",
   "execution_count": 32,
   "id": "f446bdd6",
   "metadata": {},
   "outputs": [
    {
     "name": "stdout",
     "output_type": "stream",
     "text": [
      "True\n"
     ]
    }
   ],
   "source": [
    "## Temos métodos para localizar palavras em textos:\n",
    "\n",
    "texto = \"Este é um parágrafo de texto mais longo.\"\n",
    "print(\"parágrafo\" in texto)\n",
    "# Retornará True (verdadeiro), porque “parágrafo” \n",
    "# consta no (in) texto."
   ]
  },
  {
   "cell_type": "code",
   "execution_count": 33,
   "id": "f3f22ed1",
   "metadata": {},
   "outputs": [
    {
     "name": "stdout",
     "output_type": "stream",
     "text": [
      "False\n"
     ]
    }
   ],
   "source": [
    " ## Para saber se uma palavra não está no texto:\n",
    "\n",
    "print(\"longo\" not in texto)\n",
    "# Retornará False (falso), porque há \"longo\" no texto\n",
    " "
   ]
  },
  {
   "cell_type": "markdown",
   "id": "3493aae2",
   "metadata": {},
   "source": [
    " ## Lambdas"
   ]
  },
  {
   "cell_type": "code",
   "execution_count": 36,
   "id": "ba2272d5",
   "metadata": {},
   "outputs": [
    {
     "name": "stdout",
     "output_type": "stream",
     "text": [
      "3\n"
     ]
    }
   ],
   "source": [
    "x = lambda a, b: a + b\n",
    "print(x(1,2))\n",
    "# Resultado: 3, soma dos argumentos 1 + 2"
   ]
  },
  {
   "cell_type": "code",
   "execution_count": null,
   "id": "3bfe9c10",
   "metadata": {},
   "outputs": [],
   "source": [
    "def soma(a, b):\n",
    "  return a + b"
   ]
  },
  {
   "cell_type": "code",
   "execution_count": 37,
   "id": "4775117b",
   "metadata": {},
   "outputs": [
    {
     "data": {
      "text/plain": [
       "[1, 4, 9, 16, 25]"
      ]
     },
     "execution_count": 37,
     "metadata": {},
     "output_type": "execute_result"
    }
   ],
   "source": [
    "lista = [1,2,3,4,5]\n",
    "\n",
    "def multiplica(a, b):\n",
    "  return a * b\n",
    "\n",
    "list(map(multiplica, lista, lista))"
   ]
  },
  {
   "cell_type": "code",
   "execution_count": 38,
   "id": "05aef2f1",
   "metadata": {},
   "outputs": [
    {
     "data": {
      "text/plain": [
       "[2, 4, 6, 8, 10]"
      ]
     },
     "execution_count": 38,
     "metadata": {},
     "output_type": "execute_result"
    }
   ],
   "source": [
    "lista = [1,2,3,4,5]\n",
    "[i*2 for i in lista]"
   ]
  },
  {
   "cell_type": "markdown",
   "id": "37f724bc",
   "metadata": {},
   "source": [
    "## Filter"
   ]
  },
  {
   "cell_type": "code",
   "execution_count": 39,
   "id": "066d602e",
   "metadata": {},
   "outputs": [
    {
     "data": {
      "text/plain": [
       "[2, 4, 6, 8]"
      ]
     },
     "execution_count": 39,
     "metadata": {},
     "output_type": "execute_result"
    }
   ],
   "source": [
    "lista = [1,2,3,4,5,6,7,8,9]\n",
    "\n",
    "def impares(x):\n",
    "    return (x % 2) == 0\n",
    "\n",
    "list(filter(impares, lista))\n",
    "# Resultado: [2, 4, 6, 8]"
   ]
  },
  {
   "cell_type": "markdown",
   "id": "2f382e94",
   "metadata": {},
   "source": [
    "## Zip\n",
    "\n",
    "Se quisermos combinar itens de duas listas de maneira que façam sentido em uma nova lista, como juntar uma lista de nomes e outra de cargos, podemos usar zip:"
   ]
  },
  {
   "cell_type": "code",
   "execution_count": 40,
   "id": "a846f417",
   "metadata": {},
   "outputs": [
    {
     "data": {
      "text/plain": [
       "{'Fulano': 'programador', 'Beltrana': 'gerente', 'Ciclano': 'motorista'}"
      ]
     },
     "execution_count": 40,
     "metadata": {},
     "output_type": "execute_result"
    }
   ],
   "source": [
    "nomes = [\"Fulano\", \"Beltrana\", \"Ciclano\"]\n",
    "cargos = [\"programador\", \"gerente\", \"motorista\"]\n",
    "\n",
    "dict(zip(nomes, cargos))"
   ]
  },
  {
   "cell_type": "code",
   "execution_count": 41,
   "id": "79e63650",
   "metadata": {},
   "outputs": [
    {
     "data": {
      "text/plain": [
       "[1, 4, 9, 16, 25, 36, 49, 64, 81]"
      ]
     },
     "execution_count": 41,
     "metadata": {},
     "output_type": "execute_result"
    }
   ],
   "source": [
    "[i*j for i, j in zip(lista, lista)]\n",
    "# Resultado: [1, 4, 9, 16, 25]\n"
   ]
  },
  {
   "cell_type": "code",
   "execution_count": null,
   "id": "8a1795d1",
   "metadata": {},
   "outputs": [],
   "source": []
  }
 ],
 "metadata": {
  "kernelspec": {
   "display_name": "Python 3 (ipykernel)",
   "language": "python",
   "name": "python3"
  },
  "language_info": {
   "codemirror_mode": {
    "name": "ipython",
    "version": 3
   },
   "file_extension": ".py",
   "mimetype": "text/x-python",
   "name": "python",
   "nbconvert_exporter": "python",
   "pygments_lexer": "ipython3",
   "version": "3.9.12"
  }
 },
 "nbformat": 4,
 "nbformat_minor": 5
}
